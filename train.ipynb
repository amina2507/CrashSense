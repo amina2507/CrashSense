{
 "cells": [
  {
   "cell_type": "code",
   "execution_count": null,
   "metadata": {},
   "outputs": [],
   "source": [
    "import os\n",
    "import numpy as np\n",
    "import tensorflow as tf\n",
    "from tensorflow.keras.preprocessing.image import ImageDataGenerator\n",
    "from tensorflow.keras.applications import VGG16\n",
    "from tensorflow.keras.models import Sequential\n",
    "from tensorflow.keras.layers import Dense, Flatten, Dropout\n",
    "from tensorflow.keras.optimizers import Adam\n",
    "from tensorflow.keras.models import load_model\n",
    "from tensorflow.keras.preprocessing import image\n",
    "from tensorflow.keras.callbacks import ModelCheckpoint\n"
   ]
  },
  {
   "cell_type": "code",
   "execution_count": 2,
   "metadata": {},
   "outputs": [],
   "source": [
    "\n",
    "train_dir = 'data/train'\n",
    "val_dir = 'data/val'\n",
    "\n",
    "train_datagen = ImageDataGenerator(rescale=1./255, \n",
    "                                   shear_range=0.2,                               \n",
    "                                   zoom_range=0.2, \n",
    "                                   horizontal_flip=True)\n",
    "\n",
    "val_datagen = ImageDataGenerator(rescale=1./255)\n",
    "\n",
    "\n",
    "train_generator = train_datagen.flow_from_directory(train_dir,\n",
    "                                                    target_size=(224, 224), \n",
    "                                                    batch_size=32, \n",
    "                                                    class_mode='binary')\n",
    "\n",
    "val_generator = val_datagen.flow_from_directory(val_dir,\n",
    "                                                target_size=(224, 224), \n",
    "                                                batch_size=32, \n",
    "                                                class_mode='binary')\n"
   ]
  },
  {
   "cell_type": "code",
   "execution_count": 30,
   "metadata": {},
   "outputs": [
    {
     "ename": "NameError",
     "evalue": "name 'VGG16' is not defined",
     "output_type": "error",
     "traceback": [
      "\u001b[1;31m---------------------------------------------------------------------------\u001b[0m",
      "\u001b[1;31mNameError\u001b[0m                                 Traceback (most recent call last)",
      "Cell \u001b[1;32mIn[1], line 1\u001b[0m\n\u001b[1;32m----> 1\u001b[0m vgg_base \u001b[38;5;241m=\u001b[39m \u001b[43mVGG16\u001b[49m(weights\u001b[38;5;241m=\u001b[39m\u001b[38;5;124m'\u001b[39m\u001b[38;5;124mimagenet\u001b[39m\u001b[38;5;124m'\u001b[39m, include_top\u001b[38;5;241m=\u001b[39m\u001b[38;5;28;01mFalse\u001b[39;00m, input_shape\u001b[38;5;241m=\u001b[39m(\u001b[38;5;241m224\u001b[39m, \u001b[38;5;241m224\u001b[39m, \u001b[38;5;241m3\u001b[39m))\n\u001b[0;32m      3\u001b[0m \u001b[38;5;66;03m# Freeze the layers\u001b[39;00m\n\u001b[0;32m      4\u001b[0m \u001b[38;5;28;01mfor\u001b[39;00m layer \u001b[38;5;129;01min\u001b[39;00m vgg_base\u001b[38;5;241m.\u001b[39mlayers:\n",
      "\u001b[1;31mNameError\u001b[0m: name 'VGG16' is not defined"
     ]
    }
   ],
   "source": [
    "vgg_base = VGG16(weights='imagenet', include_top=False, input_shape=(224, 224, 3))\n",
    "\n",
    "# Freeze the layers\n",
    "for layer in vgg_base.layers:\n",
    "    layer.trainable = False\n"
   ]
  },
  {
   "cell_type": "code",
   "execution_count": 31,
   "metadata": {},
   "outputs": [
    {
     "name": "stdout",
     "output_type": "stream",
     "text": [
      "Model: \"sequential_1\"\n",
      "_________________________________________________________________\n",
      "Layer (type)                 Output Shape              Param #   \n",
      "=================================================================\n",
      "vgg16 (Functional)           (None, 7, 7, 512)         14714688  \n",
      "_________________________________________________________________\n",
      "flatten_1 (Flatten)          (None, 25088)             0         \n",
      "_________________________________________________________________\n",
      "dense_2 (Dense)              (None, 512)               12845568  \n",
      "_________________________________________________________________\n",
      "dropout_1 (Dropout)          (None, 512)               0         \n",
      "_________________________________________________________________\n",
      "dense_3 (Dense)              (None, 1)                 513       \n",
      "=================================================================\n",
      "Total params: 27,560,769\n",
      "Trainable params: 12,846,081\n",
      "Non-trainable params: 14,714,688\n",
      "_________________________________________________________________\n"
     ]
    }
   ],
   "source": [
    "\n",
    "model = Sequential()\n",
    "\n",
    "model.add(vgg_base)\n",
    "\n",
    "\n",
    "model.add(Flatten())\n",
    "model.add(Dense(512, activation='relu'))\n",
    "model.add(Dropout(0.5))\n",
    "model.add(Dense(1, activation='sigmoid'))  \n",
    "model.summary()\n"
   ]
  },
  {
   "cell_type": "code",
   "execution_count": 32,
   "metadata": {},
   "outputs": [
    {
     "name": "stderr",
     "output_type": "stream",
     "text": [
      "c:\\Users\\ADMIN\\anaconda3\\envs\\ml_env\\lib\\site-packages\\keras\\optimizer_v2\\optimizer_v2.py:356: UserWarning: The `lr` argument is deprecated, use `learning_rate` instead.\n",
      "  \"The `lr` argument is deprecated, use `learning_rate` instead.\")\n"
     ]
    }
   ],
   "source": [
    "model.compile(optimizer=Adam(lr=0.0001),\n",
    "              loss='binary_crossentropy', \n",
    "              metrics=['accuracy'])\n"
   ]
  },
  {
   "cell_type": "code",
   "execution_count": 33,
   "metadata": {},
   "outputs": [],
   "source": [
    "checkpoint = ModelCheckpoint('accident_detection_model.h5',  \n",
    "                             monitor='val_accuracy',  \n",
    "                             save_best_only=True, \n",
    "                             mode='max', \n",
    "                             verbose=1) "
   ]
  },
  {
   "cell_type": "code",
   "execution_count": 34,
   "metadata": {},
   "outputs": [
    {
     "name": "stdout",
     "output_type": "stream",
     "text": [
      "Epoch 1/30\n",
      "24/24 [==============================] - 248s 10s/step - loss: 0.8211 - accuracy: 0.5731 - val_loss: 0.5956 - val_accuracy: 0.6458\n",
      "\n",
      "Epoch 00001: val_accuracy improved from -inf to 0.64583, saving model to accident_detection_model.h5\n",
      "Epoch 2/30\n",
      "24/24 [==============================] - 275s 12s/step - loss: 0.5980 - accuracy: 0.6812 - val_loss: 0.5236 - val_accuracy: 0.7396\n",
      "\n",
      "Epoch 00002: val_accuracy improved from 0.64583 to 0.73958, saving model to accident_detection_model.h5\n",
      "Epoch 3/30\n",
      "24/24 [==============================] - 276s 12s/step - loss: 0.5441 - accuracy: 0.6996 - val_loss: 0.4749 - val_accuracy: 0.7812\n",
      "\n",
      "Epoch 00003: val_accuracy improved from 0.73958 to 0.78125, saving model to accident_detection_model.h5\n",
      "Epoch 4/30\n",
      "24/24 [==============================] - 273s 11s/step - loss: 0.5292 - accuracy: 0.7352 - val_loss: 0.4840 - val_accuracy: 0.7500\n",
      "\n",
      "Epoch 00004: val_accuracy did not improve from 0.78125\n",
      "Epoch 5/30\n",
      "24/24 [==============================] - 273s 11s/step - loss: 0.4691 - accuracy: 0.7721 - val_loss: 0.4171 - val_accuracy: 0.7917\n",
      "\n",
      "Epoch 00005: val_accuracy improved from 0.78125 to 0.79167, saving model to accident_detection_model.h5\n",
      "Epoch 6/30\n",
      "24/24 [==============================] - 268s 11s/step - loss: 0.4537 - accuracy: 0.7497 - val_loss: 0.3916 - val_accuracy: 0.8333\n",
      "\n",
      "Epoch 00006: val_accuracy improved from 0.79167 to 0.83333, saving model to accident_detection_model.h5\n",
      "Epoch 7/30\n",
      "24/24 [==============================] - 265s 11s/step - loss: 0.4279 - accuracy: 0.7984 - val_loss: 0.3795 - val_accuracy: 0.8229\n",
      "\n",
      "Epoch 00007: val_accuracy did not improve from 0.83333\n",
      "Epoch 8/30\n",
      "24/24 [==============================] - 264s 11s/step - loss: 0.4220 - accuracy: 0.7879 - val_loss: 0.3359 - val_accuracy: 0.8542\n",
      "\n",
      "Epoch 00008: val_accuracy improved from 0.83333 to 0.85417, saving model to accident_detection_model.h5\n",
      "Epoch 9/30\n",
      "24/24 [==============================] - 264s 11s/step - loss: 0.3850 - accuracy: 0.8208 - val_loss: 0.3384 - val_accuracy: 0.8750\n",
      "\n",
      "Epoch 00009: val_accuracy improved from 0.85417 to 0.87500, saving model to accident_detection_model.h5\n",
      "Epoch 10/30\n",
      "24/24 [==============================] - 264s 11s/step - loss: 0.3830 - accuracy: 0.8221 - val_loss: 0.2869 - val_accuracy: 0.8958\n",
      "\n",
      "Epoch 00010: val_accuracy improved from 0.87500 to 0.89583, saving model to accident_detection_model.h5\n",
      "Epoch 11/30\n",
      "24/24 [==============================] - 264s 11s/step - loss: 0.3624 - accuracy: 0.8379 - val_loss: 0.3082 - val_accuracy: 0.8333\n",
      "\n",
      "Epoch 00011: val_accuracy did not improve from 0.89583\n",
      "Epoch 12/30\n",
      "24/24 [==============================] - 271s 11s/step - loss: 0.3488 - accuracy: 0.8314 - val_loss: 0.3031 - val_accuracy: 0.8646\n",
      "\n",
      "Epoch 00012: val_accuracy did not improve from 0.89583\n",
      "Epoch 13/30\n",
      "24/24 [==============================] - 265s 11s/step - loss: 0.3477 - accuracy: 0.8445 - val_loss: 0.2914 - val_accuracy: 0.8750\n",
      "\n",
      "Epoch 00013: val_accuracy did not improve from 0.89583\n",
      "Epoch 14/30\n",
      "24/24 [==============================] - 265s 11s/step - loss: 0.3322 - accuracy: 0.8656 - val_loss: 0.2669 - val_accuracy: 0.8854\n",
      "\n",
      "Epoch 00014: val_accuracy did not improve from 0.89583\n",
      "Epoch 15/30\n",
      "24/24 [==============================] - 263s 11s/step - loss: 0.3198 - accuracy: 0.8432 - val_loss: 0.3176 - val_accuracy: 0.8438\n",
      "\n",
      "Epoch 00015: val_accuracy did not improve from 0.89583\n",
      "Epoch 16/30\n",
      "24/24 [==============================] - 263s 11s/step - loss: 0.3585 - accuracy: 0.8235 - val_loss: 0.2730 - val_accuracy: 0.8750\n",
      "\n",
      "Epoch 00016: val_accuracy did not improve from 0.89583\n",
      "Epoch 17/30\n",
      "24/24 [==============================] - 269s 11s/step - loss: 0.3100 - accuracy: 0.8581 - val_loss: 0.3903 - val_accuracy: 0.7917\n",
      "\n",
      "Epoch 00017: val_accuracy did not improve from 0.89583\n",
      "Epoch 18/30\n",
      "24/24 [==============================] - 265s 11s/step - loss: 0.3511 - accuracy: 0.8379 - val_loss: 0.2860 - val_accuracy: 0.8750\n",
      "\n",
      "Epoch 00018: val_accuracy did not improve from 0.89583\n",
      "Epoch 19/30\n",
      "24/24 [==============================] - 265s 11s/step - loss: 0.2972 - accuracy: 0.8603 - val_loss: 0.3129 - val_accuracy: 0.8438\n",
      "\n",
      "Epoch 00019: val_accuracy did not improve from 0.89583\n",
      "Epoch 20/30\n",
      "24/24 [==============================] - 264s 11s/step - loss: 0.2799 - accuracy: 0.8762 - val_loss: 0.2479 - val_accuracy: 0.8854\n",
      "\n",
      "Epoch 00020: val_accuracy did not improve from 0.89583\n",
      "Epoch 21/30\n",
      "24/24 [==============================] - 263s 11s/step - loss: 0.2802 - accuracy: 0.8854 - val_loss: 0.2444 - val_accuracy: 0.8854\n",
      "\n",
      "Epoch 00021: val_accuracy did not improve from 0.89583\n",
      "Epoch 22/30\n",
      "24/24 [==============================] - 265s 11s/step - loss: 0.2476 - accuracy: 0.8972 - val_loss: 0.2225 - val_accuracy: 0.9167\n",
      "\n",
      "Epoch 00022: val_accuracy improved from 0.89583 to 0.91667, saving model to accident_detection_model.h5\n",
      "Epoch 23/30\n",
      "24/24 [==============================] - 272s 11s/step - loss: 0.2457 - accuracy: 0.8946 - val_loss: 0.2010 - val_accuracy: 0.9375\n",
      "\n",
      "Epoch 00023: val_accuracy improved from 0.91667 to 0.93750, saving model to accident_detection_model.h5\n",
      "Epoch 24/30\n",
      "24/24 [==============================] - 268s 11s/step - loss: 0.2520 - accuracy: 0.8815 - val_loss: 0.2342 - val_accuracy: 0.8854\n",
      "\n",
      "Epoch 00024: val_accuracy did not improve from 0.93750\n",
      "Epoch 25/30\n",
      "24/24 [==============================] - 268s 11s/step - loss: 0.2270 - accuracy: 0.9117 - val_loss: 0.2269 - val_accuracy: 0.8854\n",
      "\n",
      "Epoch 00025: val_accuracy did not improve from 0.93750\n",
      "Epoch 26/30\n",
      "24/24 [==============================] - 266s 11s/step - loss: 0.2740 - accuracy: 0.8814 - val_loss: 0.2345 - val_accuracy: 0.9062\n",
      "\n",
      "Epoch 00026: val_accuracy did not improve from 0.93750\n",
      "Epoch 27/30\n",
      "24/24 [==============================] - 265s 11s/step - loss: 0.2573 - accuracy: 0.8841 - val_loss: 0.2116 - val_accuracy: 0.9062\n",
      "\n",
      "Epoch 00027: val_accuracy did not improve from 0.93750\n",
      "Epoch 28/30\n",
      "24/24 [==============================] - 264s 11s/step - loss: 0.2461 - accuracy: 0.9025 - val_loss: 0.1965 - val_accuracy: 0.9375\n",
      "\n",
      "Epoch 00028: val_accuracy did not improve from 0.93750\n",
      "Epoch 29/30\n",
      "24/24 [==============================] - 265s 11s/step - loss: 0.2269 - accuracy: 0.9012 - val_loss: 0.2029 - val_accuracy: 0.9167\n",
      "\n",
      "Epoch 00029: val_accuracy did not improve from 0.93750\n",
      "Epoch 30/30\n",
      "24/24 [==============================] - 266s 11s/step - loss: 0.2146 - accuracy: 0.9117 - val_loss: 0.2282 - val_accuracy: 0.9062\n",
      "\n",
      "Epoch 00030: val_accuracy did not improve from 0.93750\n"
     ]
    }
   ],
   "source": [
    "\n",
    "history = model.fit(train_generator,\n",
    "                    steps_per_epoch=train_generator.samples // 32,\n",
    "                    validation_data=val_generator,\n",
    "                    validation_steps=val_generator.samples // 32,\n",
    "                    epochs=30,\n",
    "                    callbacks=[checkpoint])  \n"
   ]
  },
  {
   "cell_type": "code",
   "execution_count": 3,
   "metadata": {},
   "outputs": [
    {
     "ename": "NameError",
     "evalue": "name 'history' is not defined",
     "output_type": "error",
     "traceback": [
      "\u001b[1;31m---------------------------------------------------------------------------\u001b[0m",
      "\u001b[1;31mNameError\u001b[0m                                 Traceback (most recent call last)",
      "Cell \u001b[1;32mIn[3], line 3\u001b[0m\n\u001b[0;32m      1\u001b[0m \u001b[38;5;28;01mimport\u001b[39;00m \u001b[38;5;21;01mmatplotlib\u001b[39;00m\u001b[38;5;21;01m.\u001b[39;00m\u001b[38;5;21;01mpyplot\u001b[39;00m \u001b[38;5;28;01mas\u001b[39;00m \u001b[38;5;21;01mplt\u001b[39;00m\n\u001b[1;32m----> 3\u001b[0m plt\u001b[38;5;241m.\u001b[39mplot(\u001b[43mhistory\u001b[49m\u001b[38;5;241m.\u001b[39mhistory[\u001b[38;5;124m'\u001b[39m\u001b[38;5;124maccuracy\u001b[39m\u001b[38;5;124m'\u001b[39m], label\u001b[38;5;241m=\u001b[39m\u001b[38;5;124m'\u001b[39m\u001b[38;5;124mtrain_accuracy\u001b[39m\u001b[38;5;124m'\u001b[39m)\n\u001b[0;32m      4\u001b[0m plt\u001b[38;5;241m.\u001b[39mplot(history\u001b[38;5;241m.\u001b[39mhistory[\u001b[38;5;124m'\u001b[39m\u001b[38;5;124mval_accuracy\u001b[39m\u001b[38;5;124m'\u001b[39m], label\u001b[38;5;241m=\u001b[39m\u001b[38;5;124m'\u001b[39m\u001b[38;5;124mval_accuracy\u001b[39m\u001b[38;5;124m'\u001b[39m)\n\u001b[0;32m      5\u001b[0m plt\u001b[38;5;241m.\u001b[39mlegend()\n",
      "\u001b[1;31mNameError\u001b[0m: name 'history' is not defined"
     ]
    }
   ],
   "source": [
    "import matplotlib.pyplot as plt\n",
    "\n",
    "plt.plot(history.history['accuracy'], label='train_accuracy')\n",
    "plt.plot(history.history['val_accuracy'], label='val_accuracy')\n",
    "plt.legend()\n",
    "plt.show()"
   ]
  },
  {
   "cell_type": "code",
   "execution_count": null,
   "metadata": {},
   "outputs": [],
   "source": [
    "\n",
    "model = load_model('accident_detection_model.h5')\n"
   ]
  },
  {
   "cell_type": "code",
   "execution_count": null,
   "metadata": {},
   "outputs": [],
   "source": [
    "\n",
    "def preprocess_image(img_path):\n",
    "    img = image.load_img(img_path, target_size=(224, 224))  \n",
    "    img_array = image.img_to_array(img)  \n",
    "    img_array = np.expand_dims(img_array, axis=0)  \n",
    "    img_array /= 255.0 \n",
    "    return img_array\n"
   ]
  },
  {
   "cell_type": "code",
   "execution_count": null,
   "metadata": {},
   "outputs": [],
   "source": [
    "\n",
    "def predict_image(model, img_path):\n",
    "\n",
    "    processed_image = preprocess_image(img_path)\n",
    "\n",
    "    prediction = model.predict(processed_image)\n",
    "\n",
    "    if prediction < 0.5:\n",
    "        return \"Accident\", prediction\n",
    "    else:\n",
    "        return \"Non-Accident\", prediction\n"
   ]
  },
  {
   "cell_type": "code",
   "execution_count": null,
   "metadata": {},
   "outputs": [
    {
     "name": "stdout",
     "output_type": "stream",
     "text": [
      "1/1 [==============================] - 1s 581ms/step\n",
      "Predicted Label: Non-Accident, Probability: [[0.936163]]\n"
     ]
    }
   ],
   "source": [
    "img_path = 'testtimage1.jpg' \n",
    "\n",
    "label, probability = predict_image(model, img_path)\n",
    "\n",
    "print(f\"Predicted Label: {label}, Probability: {probability}\")\n"
   ]
  },
  {
   "cell_type": "code",
   "execution_count": null,
   "metadata": {},
   "outputs": [],
   "source": []
  }
 ],
 "metadata": {
  "kernelspec": {
   "display_name": "qualityenv",
   "language": "python",
   "name": "python3"
  },
  "language_info": {
   "codemirror_mode": {
    "name": "ipython",
    "version": 3
   },
   "file_extension": ".py",
   "mimetype": "text/x-python",
   "name": "python",
   "nbconvert_exporter": "python",
   "pygments_lexer": "ipython3",
   "version": "3.8.19"
  }
 },
 "nbformat": 4,
 "nbformat_minor": 2
}
